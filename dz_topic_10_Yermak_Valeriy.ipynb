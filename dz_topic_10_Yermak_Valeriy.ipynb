{
 "cells": [
  {
   "cell_type": "code",
   "execution_count": 1,
   "id": "68956bc9",
   "metadata": {
    "_cell_guid": "b1076dfc-b9ad-4769-8c92-a6c4dae69d19",
    "_uuid": "8f2839f25d086af736a60e9eeb907d3b93b6e0e5",
    "execution": {
     "iopub.execute_input": "2025-08-09T16:55:45.997535Z",
     "iopub.status.busy": "2025-08-09T16:55:45.997341Z",
     "iopub.status.idle": "2025-08-09T16:55:47.268140Z",
     "shell.execute_reply": "2025-08-09T16:55:47.267340Z"
    },
    "papermill": {
     "duration": 1.278359,
     "end_time": "2025-08-09T16:55:47.269379",
     "exception": false,
     "start_time": "2025-08-09T16:55:45.991020",
     "status": "completed"
    },
    "tags": []
   },
   "outputs": [
    {
     "name": "stdout",
     "output_type": "stream",
     "text": [
      "/kaggle/input/email-spam-detection-dataset-classification/spam.csv\n"
     ]
    }
   ],
   "source": [
    "# This Python 3 environment comes with many helpful analytics libraries installed\n",
    "# It is defined by the kaggle/python Docker image: https://github.com/kaggle/docker-python\n",
    "# For example, here's several helpful packages to load\n",
    "\n",
    "import numpy as np # linear algebra\n",
    "import pandas as pd # data processing, CSV file I/O (e.g. pd.read_csv)\n",
    "\n",
    "# Input data files are available in the read-only \"../input/\" directory\n",
    "# For example, running this (by clicking run or pressing Shift+Enter) will list all files under the input directory\n",
    "\n",
    "import os\n",
    "for dirname, _, filenames in os.walk('/kaggle/input'):\n",
    "    for filename in filenames:\n",
    "        print(os.path.join(dirname, filename))\n",
    "\n",
    "# You can write up to 20GB to the current directory (/kaggle/working/) that gets preserved as output when you create a version using \"Save & Run All\" \n",
    "# You can also write temporary files to /kaggle/temp/, but they won't be saved outside of the current session"
   ]
  },
  {
   "cell_type": "code",
   "execution_count": 2,
   "id": "dfe52be8",
   "metadata": {
    "execution": {
     "iopub.execute_input": "2025-08-09T16:55:47.280595Z",
     "iopub.status.busy": "2025-08-09T16:55:47.280284Z",
     "iopub.status.idle": "2025-08-09T16:56:22.942701Z",
     "shell.execute_reply": "2025-08-09T16:56:22.942118Z"
    },
    "papermill": {
     "duration": 35.669114,
     "end_time": "2025-08-09T16:56:22.944039",
     "exception": false,
     "start_time": "2025-08-09T16:55:47.274925",
     "status": "completed"
    },
    "tags": []
   },
   "outputs": [
    {
     "name": "stderr",
     "output_type": "stream",
     "text": [
      "[nltk_data] Downloading package stopwords to /usr/share/nltk_data...\n",
      "[nltk_data]   Package stopwords is already up-to-date!\n",
      "[nltk_data] Downloading package wordnet to /usr/share/nltk_data...\n",
      "[nltk_data]   Package wordnet is already up-to-date!\n",
      "[nltk_data] Downloading package omw-1.4 to /usr/share/nltk_data...\n"
     ]
    }
   ],
   "source": [
    "# Imports and customizations\n",
    "import os\n",
    "import glob\n",
    "import re\n",
    "import numpy as np\n",
    "import pandas as pd\n",
    "import matplotlib.pyplot as plt\n",
    "import seaborn as sns\n",
    "import matplotlib.ticker as mtick\n",
    "import nltk\n",
    "try:\n",
    "    nltk.data.find('corpora/wordnet')\n",
    "except LookupError:\n",
    "    nltk.download('stopwords')\n",
    "\n",
    "try:\n",
    "    nltk.data.find('corpora/wordnet')\n",
    "except LookupError:\n",
    "    nltk.download('wordnet')\n",
    "\n",
    "try: \n",
    "    nltk.data.find('tokenizers/punkt')\n",
    "except LookupError:\n",
    "    nltk.download('punkt')\n",
    "try:\n",
    "    nltk.data.find('corpora/omw-1.4')\n",
    "except LookupError:\n",
    "    nltk.download('omw-1.4')\n",
    "import gensim.downloader as api\n",
    "import xgboost as xgb\n",
    "import string\n",
    "\n",
    "\n",
    "from pathlib import Path\n",
    "from tqdm.auto import tqdm\n",
    "tqdm.pandas()\n",
    "from sklearn.model_selection import train_test_split\n",
    "from sklearn.preprocessing import LabelEncoder\n",
    "from nltk.corpus import stopwords\n",
    "from nltk.stem import WordNetLemmatizer\n",
    "from sklearn.feature_extraction.text import CountVectorizer, TfidfVectorizer\n",
    "from sklearn.linear_model import LogisticRegression\n",
    "from sklearn.metrics import accuracy_score, roc_auc_score, classification_report\n",
    "from sklearn.ensemble import RandomForestClassifier\n",
    "from sklearn.svm import SVC\n",
    "from sklearn.model_selection import GridSearchCV\n",
    "from scipy.sparse import hstack"
   ]
  },
  {
   "cell_type": "code",
   "execution_count": 3,
   "id": "b1236ef2",
   "metadata": {
    "execution": {
     "iopub.execute_input": "2025-08-09T16:56:22.955059Z",
     "iopub.status.busy": "2025-08-09T16:56:22.954400Z",
     "iopub.status.idle": "2025-08-09T16:56:22.960224Z",
     "shell.execute_reply": "2025-08-09T16:56:22.959532Z"
    },
    "papermill": {
     "duration": 0.01208,
     "end_time": "2025-08-09T16:56:22.961238",
     "exception": false,
     "start_time": "2025-08-09T16:56:22.949158",
     "status": "completed"
    },
    "tags": []
   },
   "outputs": [
    {
     "name": "stdout",
     "output_type": "stream",
     "text": [
      "Папка /kaggle/input існує.\n",
      "📂 Папка: /kaggle/input\n",
      "📂 Папка: /kaggle/input/email-spam-detection-dataset-classification\n",
      "  - spam.csv\n"
     ]
    }
   ],
   "source": [
    "# Finding and downloading a dataset (working on Kaggle)\n",
    "input_path = '/kaggle/input'\n",
    "\n",
    "if os.path.exists(input_path):\n",
    "    print(f\"Папка {input_path} існує.\")\n",
    "    for dirname, _, filenames in os.walk(input_path):\n",
    "        print(f\"📂 Папка: {dirname}\")\n",
    "        for filename in filenames:\n",
    "            print(f\"  - {filename}\")\n",
    "else:\n",
    "    print(f\"Папка {input_path} не знайдена. Перевір підключення датасету.\")\n"
   ]
  },
  {
   "cell_type": "code",
   "execution_count": 4,
   "id": "6adbe1d6",
   "metadata": {
    "execution": {
     "iopub.execute_input": "2025-08-09T16:56:22.971348Z",
     "iopub.status.busy": "2025-08-09T16:56:22.970744Z",
     "iopub.status.idle": "2025-08-09T16:56:23.016455Z",
     "shell.execute_reply": "2025-08-09T16:56:23.015749Z"
    },
    "papermill": {
     "duration": 0.051771,
     "end_time": "2025-08-09T16:56:23.017598",
     "exception": false,
     "start_time": "2025-08-09T16:56:22.965827",
     "status": "completed"
    },
    "tags": []
   },
   "outputs": [
    {
     "name": "stdout",
     "output_type": "stream",
     "text": [
      "Review first 5 rows of dataset:\n"
     ]
    },
    {
     "data": {
      "text/html": [
       "<div>\n",
       "<style scoped>\n",
       "    .dataframe tbody tr th:only-of-type {\n",
       "        vertical-align: middle;\n",
       "    }\n",
       "\n",
       "    .dataframe tbody tr th {\n",
       "        vertical-align: top;\n",
       "    }\n",
       "\n",
       "    .dataframe thead th {\n",
       "        text-align: right;\n",
       "    }\n",
       "</style>\n",
       "<table border=\"1\" class=\"dataframe\">\n",
       "  <thead>\n",
       "    <tr style=\"text-align: right;\">\n",
       "      <th></th>\n",
       "      <th>v1</th>\n",
       "      <th>v2</th>\n",
       "      <th>Unnamed: 2</th>\n",
       "      <th>Unnamed: 3</th>\n",
       "      <th>Unnamed: 4</th>\n",
       "    </tr>\n",
       "  </thead>\n",
       "  <tbody>\n",
       "    <tr>\n",
       "      <th>0</th>\n",
       "      <td>ham</td>\n",
       "      <td>Go until jurong point, crazy.. Available only ...</td>\n",
       "      <td>NaN</td>\n",
       "      <td>NaN</td>\n",
       "      <td>NaN</td>\n",
       "    </tr>\n",
       "    <tr>\n",
       "      <th>1</th>\n",
       "      <td>ham</td>\n",
       "      <td>Ok lar... Joking wif u oni...</td>\n",
       "      <td>NaN</td>\n",
       "      <td>NaN</td>\n",
       "      <td>NaN</td>\n",
       "    </tr>\n",
       "    <tr>\n",
       "      <th>2</th>\n",
       "      <td>spam</td>\n",
       "      <td>Free entry in 2 a wkly comp to win FA Cup fina...</td>\n",
       "      <td>NaN</td>\n",
       "      <td>NaN</td>\n",
       "      <td>NaN</td>\n",
       "    </tr>\n",
       "    <tr>\n",
       "      <th>3</th>\n",
       "      <td>ham</td>\n",
       "      <td>U dun say so early hor... U c already then say...</td>\n",
       "      <td>NaN</td>\n",
       "      <td>NaN</td>\n",
       "      <td>NaN</td>\n",
       "    </tr>\n",
       "    <tr>\n",
       "      <th>4</th>\n",
       "      <td>ham</td>\n",
       "      <td>Nah I don't think he goes to usf, he lives aro...</td>\n",
       "      <td>NaN</td>\n",
       "      <td>NaN</td>\n",
       "      <td>NaN</td>\n",
       "    </tr>\n",
       "    <tr>\n",
       "      <th>5</th>\n",
       "      <td>spam</td>\n",
       "      <td>FreeMsg Hey there darling it's been 3 week's n...</td>\n",
       "      <td>NaN</td>\n",
       "      <td>NaN</td>\n",
       "      <td>NaN</td>\n",
       "    </tr>\n",
       "    <tr>\n",
       "      <th>6</th>\n",
       "      <td>ham</td>\n",
       "      <td>Even my brother is not like to speak with me. ...</td>\n",
       "      <td>NaN</td>\n",
       "      <td>NaN</td>\n",
       "      <td>NaN</td>\n",
       "    </tr>\n",
       "    <tr>\n",
       "      <th>7</th>\n",
       "      <td>ham</td>\n",
       "      <td>As per your request 'Melle Melle (Oru Minnamin...</td>\n",
       "      <td>NaN</td>\n",
       "      <td>NaN</td>\n",
       "      <td>NaN</td>\n",
       "    </tr>\n",
       "    <tr>\n",
       "      <th>8</th>\n",
       "      <td>spam</td>\n",
       "      <td>WINNER!! As a valued network customer you have...</td>\n",
       "      <td>NaN</td>\n",
       "      <td>NaN</td>\n",
       "      <td>NaN</td>\n",
       "    </tr>\n",
       "    <tr>\n",
       "      <th>9</th>\n",
       "      <td>spam</td>\n",
       "      <td>Had your mobile 11 months or more? U R entitle...</td>\n",
       "      <td>NaN</td>\n",
       "      <td>NaN</td>\n",
       "      <td>NaN</td>\n",
       "    </tr>\n",
       "  </tbody>\n",
       "</table>\n",
       "</div>"
      ],
      "text/plain": [
       "     v1                                                 v2 Unnamed: 2  \\\n",
       "0   ham  Go until jurong point, crazy.. Available only ...        NaN   \n",
       "1   ham                      Ok lar... Joking wif u oni...        NaN   \n",
       "2  spam  Free entry in 2 a wkly comp to win FA Cup fina...        NaN   \n",
       "3   ham  U dun say so early hor... U c already then say...        NaN   \n",
       "4   ham  Nah I don't think he goes to usf, he lives aro...        NaN   \n",
       "5  spam  FreeMsg Hey there darling it's been 3 week's n...        NaN   \n",
       "6   ham  Even my brother is not like to speak with me. ...        NaN   \n",
       "7   ham  As per your request 'Melle Melle (Oru Minnamin...        NaN   \n",
       "8  spam  WINNER!! As a valued network customer you have...        NaN   \n",
       "9  spam  Had your mobile 11 months or more? U R entitle...        NaN   \n",
       "\n",
       "  Unnamed: 3 Unnamed: 4  \n",
       "0        NaN        NaN  \n",
       "1        NaN        NaN  \n",
       "2        NaN        NaN  \n",
       "3        NaN        NaN  \n",
       "4        NaN        NaN  \n",
       "5        NaN        NaN  \n",
       "6        NaN        NaN  \n",
       "7        NaN        NaN  \n",
       "8        NaN        NaN  \n",
       "9        NaN        NaN  "
      ]
     },
     "metadata": {},
     "output_type": "display_data"
    }
   ],
   "source": [
    "data_path = '/kaggle/input/email-spam-detection-dataset-classification/spam.csv'\n",
    "df = pd.read_csv(data_path, encoding='latin-1')\n",
    "\n",
    "print('Review first 5 rows of dataset:')\n",
    "display(df.head(10))"
   ]
  },
  {
   "cell_type": "code",
   "execution_count": 5,
   "id": "06742cee",
   "metadata": {
    "execution": {
     "iopub.execute_input": "2025-08-09T16:56:23.029446Z",
     "iopub.status.busy": "2025-08-09T16:56:23.028930Z",
     "iopub.status.idle": "2025-08-09T16:56:23.046569Z",
     "shell.execute_reply": "2025-08-09T16:56:23.045938Z"
    },
    "papermill": {
     "duration": 0.024287,
     "end_time": "2025-08-09T16:56:23.047557",
     "exception": false,
     "start_time": "2025-08-09T16:56:23.023270",
     "status": "completed"
    },
    "tags": []
   },
   "outputs": [
    {
     "name": "stdout",
     "output_type": "stream",
     "text": [
      "\n",
      " Information about dataset:\n",
      "<class 'pandas.core.frame.DataFrame'>\n",
      "RangeIndex: 5572 entries, 0 to 5571\n",
      "Data columns (total 5 columns):\n",
      " #   Column      Non-Null Count  Dtype \n",
      "---  ------      --------------  ----- \n",
      " 0   v1          5572 non-null   object\n",
      " 1   v2          5572 non-null   object\n",
      " 2   Unnamed: 2  50 non-null     object\n",
      " 3   Unnamed: 3  12 non-null     object\n",
      " 4   Unnamed: 4  6 non-null      object\n",
      "dtypes: object(5)\n",
      "memory usage: 217.8+ KB\n"
     ]
    }
   ],
   "source": [
    "print('\\n Information about dataset:')\n",
    "df.info()"
   ]
  },
  {
   "cell_type": "code",
   "execution_count": 6,
   "id": "6e867c7f",
   "metadata": {
    "execution": {
     "iopub.execute_input": "2025-08-09T16:56:23.057769Z",
     "iopub.status.busy": "2025-08-09T16:56:23.057596Z",
     "iopub.status.idle": "2025-08-09T16:56:23.062805Z",
     "shell.execute_reply": "2025-08-09T16:56:23.062228Z"
    },
    "papermill": {
     "duration": 0.011384,
     "end_time": "2025-08-09T16:56:23.063806",
     "exception": false,
     "start_time": "2025-08-09T16:56:23.052422",
     "status": "completed"
    },
    "tags": []
   },
   "outputs": [
    {
     "name": "stdout",
     "output_type": "stream",
     "text": [
      "\\Checking for missing values:\n",
      "v1               0\n",
      "v2               0\n",
      "Unnamed: 2    5522\n",
      "Unnamed: 3    5560\n",
      "Unnamed: 4    5566\n",
      "dtype: int64\n"
     ]
    }
   ],
   "source": [
    "print('\\Checking for missing values:')\n",
    "print(df.isnull().sum())"
   ]
  },
  {
   "cell_type": "code",
   "execution_count": 7,
   "id": "e5456f99",
   "metadata": {
    "execution": {
     "iopub.execute_input": "2025-08-09T16:56:23.074654Z",
     "iopub.status.busy": "2025-08-09T16:56:23.074475Z",
     "iopub.status.idle": "2025-08-09T16:56:23.079470Z",
     "shell.execute_reply": "2025-08-09T16:56:23.078944Z"
    },
    "papermill": {
     "duration": 0.011235,
     "end_time": "2025-08-09T16:56:23.080471",
     "exception": false,
     "start_time": "2025-08-09T16:56:23.069236",
     "status": "completed"
    },
    "tags": []
   },
   "outputs": [],
   "source": [
    "# choose only usefull columns and renamed their\n",
    "df = df[['v1', 'v2']].rename(columns={'v1':'label','v2':'text'})"
   ]
  },
  {
   "cell_type": "code",
   "execution_count": 8,
   "id": "b361b8fb",
   "metadata": {
    "execution": {
     "iopub.execute_input": "2025-08-09T16:56:23.090745Z",
     "iopub.status.busy": "2025-08-09T16:56:23.090438Z",
     "iopub.status.idle": "2025-08-09T16:56:23.094411Z",
     "shell.execute_reply": "2025-08-09T16:56:23.093873Z"
    },
    "papermill": {
     "duration": 0.010113,
     "end_time": "2025-08-09T16:56:23.095452",
     "exception": false,
     "start_time": "2025-08-09T16:56:23.085339",
     "status": "completed"
    },
    "tags": []
   },
   "outputs": [
    {
     "name": "stdout",
     "output_type": "stream",
     "text": [
      "\n",
      "Unique values in column \"Label\":\n",
      "['ham' 'spam']\n"
     ]
    }
   ],
   "source": [
    "print('\\nUnique values in column \"Label\":')\n",
    "print(df['label'].unique())"
   ]
  },
  {
   "cell_type": "code",
   "execution_count": 9,
   "id": "58647fd4",
   "metadata": {
    "execution": {
     "iopub.execute_input": "2025-08-09T16:56:23.105891Z",
     "iopub.status.busy": "2025-08-09T16:56:23.105394Z",
     "iopub.status.idle": "2025-08-09T16:56:23.113325Z",
     "shell.execute_reply": "2025-08-09T16:56:23.112696Z"
    },
    "papermill": {
     "duration": 0.014108,
     "end_time": "2025-08-09T16:56:23.114331",
     "exception": false,
     "start_time": "2025-08-09T16:56:23.100223",
     "status": "completed"
    },
    "tags": []
   },
   "outputs": [
    {
     "name": "stdout",
     "output_type": "stream",
     "text": [
      "\n",
      "Missing in the text: 0\n"
     ]
    },
    {
     "data": {
      "text/html": [
       "<div>\n",
       "<style scoped>\n",
       "    .dataframe tbody tr th:only-of-type {\n",
       "        vertical-align: middle;\n",
       "    }\n",
       "\n",
       "    .dataframe tbody tr th {\n",
       "        vertical-align: top;\n",
       "    }\n",
       "\n",
       "    .dataframe thead th {\n",
       "        text-align: right;\n",
       "    }\n",
       "</style>\n",
       "<table border=\"1\" class=\"dataframe\">\n",
       "  <thead>\n",
       "    <tr style=\"text-align: right;\">\n",
       "      <th></th>\n",
       "      <th>label</th>\n",
       "      <th>text</th>\n",
       "    </tr>\n",
       "  </thead>\n",
       "  <tbody>\n",
       "    <tr>\n",
       "      <th>895</th>\n",
       "      <td>ham</td>\n",
       "      <td>Superb Thought- \\Be grateful that u dont have ...</td>\n",
       "    </tr>\n",
       "    <tr>\n",
       "      <th>4736</th>\n",
       "      <td>ham</td>\n",
       "      <td>Nt only for driving even for many reasons she ...</td>\n",
       "    </tr>\n",
       "    <tr>\n",
       "      <th>5512</th>\n",
       "      <td>ham</td>\n",
       "      <td>Just making dinner, you ?</td>\n",
       "    </tr>\n",
       "    <tr>\n",
       "      <th>4553</th>\n",
       "      <td>ham</td>\n",
       "      <td>Try to do something dear. You read something f...</td>\n",
       "    </tr>\n",
       "    <tr>\n",
       "      <th>3415</th>\n",
       "      <td>ham</td>\n",
       "      <td>Uhhhhrmm isnt having tb test bad when youre sick</td>\n",
       "    </tr>\n",
       "  </tbody>\n",
       "</table>\n",
       "</div>"
      ],
      "text/plain": [
       "     label                                               text\n",
       "895    ham  Superb Thought- \\Be grateful that u dont have ...\n",
       "4736   ham  Nt only for driving even for many reasons she ...\n",
       "5512   ham                          Just making dinner, you ?\n",
       "4553   ham  Try to do something dear. You read something f...\n",
       "3415   ham   Uhhhhrmm isnt having tb test bad when youre sick"
      ]
     },
     "metadata": {},
     "output_type": "display_data"
    }
   ],
   "source": [
    "print('\\nMissing in the text:', df['text'].isnull().sum())\n",
    "\n",
    "display(df.sample(5, random_state = 37))"
   ]
  },
  {
   "cell_type": "code",
   "execution_count": 10,
   "id": "570dba82",
   "metadata": {
    "execution": {
     "iopub.execute_input": "2025-08-09T16:56:23.124763Z",
     "iopub.status.busy": "2025-08-09T16:56:23.124593Z",
     "iopub.status.idle": "2025-08-09T16:56:25.602973Z",
     "shell.execute_reply": "2025-08-09T16:56:25.602182Z"
    },
    "papermill": {
     "duration": 2.485098,
     "end_time": "2025-08-09T16:56:25.604286",
     "exception": false,
     "start_time": "2025-08-09T16:56:23.119188",
     "status": "completed"
    },
    "tags": []
   },
   "outputs": [
    {
     "name": "stdout",
     "output_type": "stream",
     "text": [
      "superb thought grateful u dont\n"
     ]
    }
   ],
   "source": [
    "stop_words = set(stopwords.words('english'))\n",
    "lemmatizer = WordNetLemmatizer()\n",
    "\n",
    "def clean_text(text):\n",
    "    # 1. Lowercase\n",
    "    text = text.lower()\n",
    "    #2. Remove everything that is not letters and spaces\n",
    "    text = re.sub(r'[^a-z\\s]','', text)\n",
    "    # 3. Break text into words\n",
    "    words = text.split()\n",
    "    # 4. Remove stop words and lemmatize\n",
    "    words = [lemmatizer.lemmatize(word) for word in words if word not in stop_words]\n",
    "    #5. Connect back into a string\n",
    "    return ' '.join(words)\n",
    "\n",
    "# check in exampes\n",
    "print(clean_text('Superb Thought- \\\\Be grateful that u dont have ...'))"
   ]
  },
  {
   "cell_type": "code",
   "execution_count": 11,
   "id": "005714ea",
   "metadata": {
    "execution": {
     "iopub.execute_input": "2025-08-09T16:56:25.616053Z",
     "iopub.status.busy": "2025-08-09T16:56:25.615823Z",
     "iopub.status.idle": "2025-08-09T16:56:25.806062Z",
     "shell.execute_reply": "2025-08-09T16:56:25.805530Z"
    },
    "papermill": {
     "duration": 0.19715,
     "end_time": "2025-08-09T16:56:25.807083",
     "exception": false,
     "start_time": "2025-08-09T16:56:25.609933",
     "status": "completed"
    },
    "tags": []
   },
   "outputs": [],
   "source": [
    "df['clean_text'] = df['text'].apply(clean_text)"
   ]
  },
  {
   "cell_type": "code",
   "execution_count": 12,
   "id": "ea929e8d",
   "metadata": {
    "execution": {
     "iopub.execute_input": "2025-08-09T16:56:25.818136Z",
     "iopub.status.busy": "2025-08-09T16:56:25.817913Z",
     "iopub.status.idle": "2025-08-09T16:56:25.835689Z",
     "shell.execute_reply": "2025-08-09T16:56:25.835025Z"
    },
    "papermill": {
     "duration": 0.024406,
     "end_time": "2025-08-09T16:56:25.836688",
     "exception": false,
     "start_time": "2025-08-09T16:56:25.812282",
     "status": "completed"
    },
    "tags": []
   },
   "outputs": [
    {
     "name": "stdout",
     "output_type": "stream",
     "text": [
      "Size of train set:4457\n",
      "Size of validation set:1115\n"
     ]
    }
   ],
   "source": [
    "# Splitting into training and validation sets\n",
    "X_train, X_val, y_train, y_val = train_test_split(df['clean_text'], df['label'], test_size=0.2, random_state=37, stratify = df['label'])\n",
    "\n",
    "print(f'Size of train set:{len(X_train)}')\n",
    "print(f'Size of validation set:{len(X_val)}')"
   ]
  },
  {
   "cell_type": "code",
   "execution_count": 13,
   "id": "56085f47",
   "metadata": {
    "execution": {
     "iopub.execute_input": "2025-08-09T16:56:25.847396Z",
     "iopub.status.busy": "2025-08-09T16:56:25.847189Z",
     "iopub.status.idle": "2025-08-09T16:56:26.095337Z",
     "shell.execute_reply": "2025-08-09T16:56:26.094666Z"
    },
    "papermill": {
     "duration": 0.254804,
     "end_time": "2025-08-09T16:56:26.096471",
     "exception": false,
     "start_time": "2025-08-09T16:56:25.841667",
     "status": "completed"
    },
    "tags": []
   },
   "outputs": [
    {
     "name": "stdout",
     "output_type": "stream",
     "text": [
      "Dimensionality of the BoW matrix: (4457, 5000)\n",
      "Dimensionality of TF-IDF matrix:(4457, 5000)\n"
     ]
    }
   ],
   "source": [
    "# Text vectorization (BoW and TF-IDF)\n",
    "# Initialize vectorizers\n",
    "count_vectorizer = CountVectorizer(max_features=5000, ngram_range=(1,2))\n",
    "tfidf_vectorizer = TfidfVectorizer(max_features=5000, ngram_range=(1,2))\n",
    "\n",
    "# We train and transform training data\n",
    "X_train_count = count_vectorizer.fit_transform(X_train)\n",
    "X_train_tfidf = tfidf_vectorizer.fit_transform(X_train)\n",
    "\n",
    "# Transform validation data\n",
    "X_val_count = count_vectorizer.transform(X_val)\n",
    "X_val_tfidf = tfidf_vectorizer.transform(X_val)\n",
    "\n",
    "print(f'Dimensionality of the BoW matrix: {X_train_count.shape}')\n",
    "print(f'Dimensionality of TF-IDF matrix:{X_train_tfidf.shape}')"
   ]
  },
  {
   "cell_type": "code",
   "execution_count": 14,
   "id": "b8320f0e",
   "metadata": {
    "execution": {
     "iopub.execute_input": "2025-08-09T16:56:26.108217Z",
     "iopub.status.busy": "2025-08-09T16:56:26.107484Z",
     "iopub.status.idle": "2025-08-09T16:56:26.467922Z",
     "shell.execute_reply": "2025-08-09T16:56:26.467057Z"
    },
    "papermill": {
     "duration": 0.367336,
     "end_time": "2025-08-09T16:56:26.469207",
     "exception": false,
     "start_time": "2025-08-09T16:56:26.101871",
     "status": "completed"
    },
    "tags": []
   },
   "outputs": [
    {
     "name": "stdout",
     "output_type": "stream",
     "text": [
      "=== Logistic Regression on BoW ===\n",
      "Accuracy: 0.9803\n",
      "AUC: 0.9880\n",
      "              precision    recall  f1-score   support\n",
      "\n",
      "         ham       0.98      1.00      0.99       966\n",
      "        spam       1.00      0.85      0.92       149\n",
      "\n",
      "    accuracy                           0.98      1115\n",
      "   macro avg       0.99      0.93      0.95      1115\n",
      "weighted avg       0.98      0.98      0.98      1115\n",
      "\n",
      "\n",
      "=== Logistic Regression on TF-IDF ===\n",
      "Accuracy: 0.9605\n",
      "AUC: 0.9883\n",
      "              precision    recall  f1-score   support\n",
      "\n",
      "         ham       0.96      0.99      0.98       966\n",
      "        spam       0.96      0.74      0.83       149\n",
      "\n",
      "    accuracy                           0.96      1115\n",
      "   macro avg       0.96      0.87      0.91      1115\n",
      "weighted avg       0.96      0.96      0.96      1115\n",
      "\n"
     ]
    }
   ],
   "source": [
    "#Training Logistic Regression models on BoW and TF-IDF\n",
    "# Initialize models\n",
    "lr_count = LogisticRegression(max_iter = 1000, random_state = 37)\n",
    "lr_tfidf = LogisticRegression(max_iter = 1000, random_state = 37)\n",
    "\n",
    "# Training on BoW\n",
    "lr_count.fit(X_train_count, y_train)\n",
    "\n",
    "# Training on TF-IDF\n",
    "lr_tfidf.fit(X_train_tfidf, y_train)\n",
    "\n",
    "# Predictions\n",
    "\n",
    "y_pred_count = lr_count.predict(X_val_count)\n",
    "y_pred_tfidf = lr_tfidf.predict(X_val_tfidf)\n",
    "\n",
    "# Spam class probability predictions\n",
    "y_proba_count = lr_count.predict_proba(X_val_count)[:, 1]\n",
    "y_proba_tfidf = lr_tfidf.predict_proba(X_val_tfidf)[:, 1]\n",
    "\n",
    "# Rating of model\n",
    "\n",
    "print(\"=== Logistic Regression on BoW ===\")\n",
    "print(f\"Accuracy: {accuracy_score(y_val, y_pred_count):.4f}\")\n",
    "print(f\"AUC: {roc_auc_score(y_val.map({'ham':0, 'spam':1}), y_proba_count):.4f}\")\n",
    "print(classification_report(y_val, y_pred_count))\n",
    "\n",
    "print(\"\\n=== Logistic Regression on TF-IDF ===\")\n",
    "print(f\"Accuracy: {accuracy_score(y_val, y_pred_tfidf):.4f}\")\n",
    "print(f\"AUC: {roc_auc_score(y_val.map({'ham':0, 'spam':1}), y_proba_tfidf):.4f}\")\n",
    "print(classification_report(y_val, y_pred_tfidf))"
   ]
  },
  {
   "cell_type": "code",
   "execution_count": 15,
   "id": "65aea3d3",
   "metadata": {
    "execution": {
     "iopub.execute_input": "2025-08-09T16:56:26.481083Z",
     "iopub.status.busy": "2025-08-09T16:56:26.480845Z",
     "iopub.status.idle": "2025-08-09T16:56:47.142305Z",
     "shell.execute_reply": "2025-08-09T16:56:47.141550Z"
    },
    "papermill": {
     "duration": 20.668717,
     "end_time": "2025-08-09T16:56:47.143526",
     "exception": false,
     "start_time": "2025-08-09T16:56:26.474809",
     "status": "completed"
    },
    "tags": []
   },
   "outputs": [
    {
     "name": "stdout",
     "output_type": "stream",
     "text": [
      "[==================================================] 100.0% 66.0/66.0MB downloaded\n",
      "GloVe model downloaded\n"
     ]
    }
   ],
   "source": [
    "# Using pre-trained embeddings (Word2Vec)\n",
    "# Download model Word2Vec\n",
    "w2v_model = api.load(\"glove-wiki-gigaword-50\")\n",
    "print(\"GloVe model downloaded\")\n"
   ]
  },
  {
   "cell_type": "code",
   "execution_count": 16,
   "id": "9036a557",
   "metadata": {
    "execution": {
     "iopub.execute_input": "2025-08-09T16:56:47.842928Z",
     "iopub.status.busy": "2025-08-09T16:56:47.842447Z",
     "iopub.status.idle": "2025-08-09T16:56:47.847070Z",
     "shell.execute_reply": "2025-08-09T16:56:47.846386Z"
    },
    "papermill": {
     "duration": 0.359427,
     "end_time": "2025-08-09T16:56:47.848119",
     "exception": false,
     "start_time": "2025-08-09T16:56:47.488692",
     "status": "completed"
    },
    "tags": []
   },
   "outputs": [],
   "source": [
    "# Function to get embedding vectors for text\n",
    "def get_embedding_vector(text, model, vector_size=50):\n",
    "    words = text.split()\n",
    "    valid_words = [word for word in words if word in model.key_to_index]\n",
    "    if not valid_words:\n",
    "        return np.zeros(vector_size)\n",
    "    word_vectors = [model[word] for word in valid_words]\n",
    "    # Make sure that all vectors are the same size\n",
    "    for vec in word_vectors:\n",
    "        assert len(vec) == vector_size\n",
    "    return np.mean(word_vectors, axis=0)"
   ]
  },
  {
   "cell_type": "code",
   "execution_count": 17,
   "id": "f01bc276",
   "metadata": {
    "execution": {
     "iopub.execute_input": "2025-08-09T16:56:48.609081Z",
     "iopub.status.busy": "2025-08-09T16:56:48.608692Z",
     "iopub.status.idle": "2025-08-09T16:56:48.764681Z",
     "shell.execute_reply": "2025-08-09T16:56:48.763928Z"
    },
    "papermill": {
     "duration": 0.538621,
     "end_time": "2025-08-09T16:56:48.765934",
     "exception": false,
     "start_time": "2025-08-09T16:56:48.227313",
     "status": "completed"
    },
    "tags": []
   },
   "outputs": [],
   "source": [
    "# We obtain embedding vectors for the training and validation sets\n",
    "X_train_w2v = np.array([get_embedding_vector(text, w2v_model) for text in X_train])\n",
    "X_val_w2v = np.array([get_embedding_vector(text, w2v_model) for text in X_val])"
   ]
  },
  {
   "cell_type": "code",
   "execution_count": 18,
   "id": "0105fa81",
   "metadata": {
    "execution": {
     "iopub.execute_input": "2025-08-09T16:56:49.476725Z",
     "iopub.status.busy": "2025-08-09T16:56:49.476454Z",
     "iopub.status.idle": "2025-08-09T16:56:49.790216Z",
     "shell.execute_reply": "2025-08-09T16:56:49.789481Z"
    },
    "papermill": {
     "duration": 0.694994,
     "end_time": "2025-08-09T16:56:49.791629",
     "exception": false,
     "start_time": "2025-08-09T16:56:49.096635",
     "status": "completed"
    },
    "tags": []
   },
   "outputs": [
    {
     "name": "stdout",
     "output_type": "stream",
     "text": [
      "=== Logistic Regression on Word2Vec embedding ===\n",
      "Accuracy: 0.8951\n",
      "AUC: 0.9257\n",
      "              precision    recall  f1-score   support\n",
      "\n",
      "         ham       0.93      0.95      0.94       966\n",
      "        spam       0.62      0.56      0.59       149\n",
      "\n",
      "    accuracy                           0.90      1115\n",
      "   macro avg       0.78      0.75      0.76      1115\n",
      "weighted avg       0.89      0.90      0.89      1115\n",
      "\n"
     ]
    }
   ],
   "source": [
    "# Training a model on embedding vectors (Logistic Regression)\n",
    "lr_w2v = LogisticRegression(max_iter = 1000, random_state = 37)\n",
    "lr_w2v.fit(X_train_w2v, y_train)\n",
    "\n",
    "y_pred_w2v = lr_w2v.predict(X_val_w2v)\n",
    "y_proba_w2v = lr_w2v.predict_proba(X_val_w2v)[:,1]\n",
    "\n",
    "print(\"=== Logistic Regression on Word2Vec embedding ===\")\n",
    "print(f\"Accuracy: {accuracy_score(y_val, y_pred_w2v):.4f}\")\n",
    "print(f\"AUC: {roc_auc_score(y_val.map({'ham':0, 'spam':1}), y_proba_w2v):.4f}\")\n",
    "print(classification_report(y_val, y_pred_w2v))"
   ]
  },
  {
   "cell_type": "code",
   "execution_count": 19,
   "id": "e321c085",
   "metadata": {
    "execution": {
     "iopub.execute_input": "2025-08-09T16:56:50.476263Z",
     "iopub.status.busy": "2025-08-09T16:56:50.475969Z",
     "iopub.status.idle": "2025-08-09T16:56:51.180820Z",
     "shell.execute_reply": "2025-08-09T16:56:51.180030Z"
    },
    "papermill": {
     "duration": 1.036426,
     "end_time": "2025-08-09T16:56:51.182218",
     "exception": false,
     "start_time": "2025-08-09T16:56:50.145792",
     "status": "completed"
    },
    "tags": []
   },
   "outputs": [
    {
     "name": "stdout",
     "output_type": "stream",
     "text": [
      "=== Random Forest on BoW ===\n",
      "Accuracy: 0.9767\n",
      "AUC: 0.9859\n",
      "              precision    recall  f1-score   support\n",
      "\n",
      "         ham       0.97      1.00      0.99       966\n",
      "        spam       0.99      0.83      0.91       149\n",
      "\n",
      "    accuracy                           0.98      1115\n",
      "   macro avg       0.98      0.92      0.95      1115\n",
      "weighted avg       0.98      0.98      0.98      1115\n",
      "\n"
     ]
    }
   ],
   "source": [
    "#  Random Forest on BoW\n",
    "rf_count = RandomForestClassifier(random_state=42, n_jobs=-1)\n",
    "rf_count.fit(X_train_count, y_train)\n",
    "\n",
    "y_pred_rf_count = rf_count.predict(X_val_count)\n",
    "y_proba_rf_count = rf_count.predict_proba(X_val_count)[:, 1]\n",
    "\n",
    "print(\"=== Random Forest on BoW ===\")\n",
    "print(f\"Accuracy: {accuracy_score(y_val, y_pred_rf_count):.4f}\")\n",
    "print(f\"AUC: {roc_auc_score(y_val.map({'ham':0, 'spam':1}), y_proba_rf_count):.4f}\")\n",
    "print(classification_report(y_val, y_pred_rf_count))"
   ]
  },
  {
   "cell_type": "code",
   "execution_count": 20,
   "id": "5941800e",
   "metadata": {
    "execution": {
     "iopub.execute_input": "2025-08-09T16:56:51.919801Z",
     "iopub.status.busy": "2025-08-09T16:56:51.919534Z",
     "iopub.status.idle": "2025-08-09T16:56:52.605252Z",
     "shell.execute_reply": "2025-08-09T16:56:52.604408Z"
    },
    "papermill": {
     "duration": 1.021249,
     "end_time": "2025-08-09T16:56:52.606390",
     "exception": false,
     "start_time": "2025-08-09T16:56:51.585141",
     "status": "completed"
    },
    "tags": []
   },
   "outputs": [
    {
     "name": "stdout",
     "output_type": "stream",
     "text": [
      "=== Random Forest on TF-IDF ===\n",
      "Accuracy: 0.9767\n",
      "AUC: 0.9893\n",
      "              precision    recall  f1-score   support\n",
      "\n",
      "         ham       0.97      1.00      0.99       966\n",
      "        spam       1.00      0.83      0.90       149\n",
      "\n",
      "    accuracy                           0.98      1115\n",
      "   macro avg       0.99      0.91      0.95      1115\n",
      "weighted avg       0.98      0.98      0.98      1115\n",
      "\n"
     ]
    }
   ],
   "source": [
    "# Random Forest on TF-IDF\n",
    "\n",
    "rf_tfidf = RandomForestClassifier(random_state=42, n_jobs=-1)\n",
    "rf_tfidf.fit(X_train_tfidf, y_train)\n",
    "\n",
    "y_pred_rf_tfidf = rf_tfidf.predict(X_val_tfidf)\n",
    "y_proba_rf_tfidf = rf_tfidf.predict_proba(X_val_tfidf)[:, 1]\n",
    "\n",
    "print(\"=== Random Forest on TF-IDF ===\")\n",
    "print(f\"Accuracy: {accuracy_score(y_val, y_pred_rf_tfidf):.4f}\")\n",
    "print(f\"AUC: {roc_auc_score(y_val.map({'ham':0, 'spam':1}), y_proba_rf_tfidf):.4f}\")\n",
    "print(classification_report(y_val, y_pred_rf_tfidf))\n"
   ]
  },
  {
   "cell_type": "code",
   "execution_count": 21,
   "id": "6db8cb3d",
   "metadata": {
    "execution": {
     "iopub.execute_input": "2025-08-09T16:56:53.321659Z",
     "iopub.status.busy": "2025-08-09T16:56:53.321393Z",
     "iopub.status.idle": "2025-08-09T16:56:53.956059Z",
     "shell.execute_reply": "2025-08-09T16:56:53.955428Z"
    },
    "papermill": {
     "duration": 1.016932,
     "end_time": "2025-08-09T16:56:53.957352",
     "exception": false,
     "start_time": "2025-08-09T16:56:52.940420",
     "status": "completed"
    },
    "tags": []
   },
   "outputs": [
    {
     "name": "stdout",
     "output_type": "stream",
     "text": [
      "=== XGBoost on TF-IDF ===\n",
      "Accuracy: 0.9713\n",
      "AUC: 0.9754\n",
      "              precision    recall  f1-score   support\n",
      "\n",
      "         ham       0.97      1.00      0.98       966\n",
      "        spam       0.98      0.81      0.88       149\n",
      "\n",
      "    accuracy                           0.97      1115\n",
      "   macro avg       0.97      0.90      0.93      1115\n",
      "weighted avg       0.97      0.97      0.97      1115\n",
      "\n"
     ]
    }
   ],
   "source": [
    "# XGBoost on TF-IDF\n",
    "\n",
    "le = LabelEncoder()\n",
    "y_train_enc = le.fit_transform(y_train)  # ham -> 0, spam -> 1\n",
    "y_val_enc = le.transform(y_val)\n",
    "\n",
    "\n",
    "xgb_tfidf = xgb.XGBClassifier(use_label_encoder=False, eval_metric='logloss', random_state=42)\n",
    "xgb_tfidf.fit(X_train_tfidf, y_train_enc)\n",
    "\n",
    "y_pred_xgb_tfidf = xgb_tfidf.predict(X_val_tfidf)\n",
    "y_proba_xgb_tfidf = xgb_tfidf.predict_proba(X_val_tfidf)[:, 1]\n",
    "\n",
    "print(\"=== XGBoost on TF-IDF ===\")\n",
    "print(f\"Accuracy: {accuracy_score(y_val_enc, y_pred_xgb_tfidf):.4f}\")\n",
    "print(f\"AUC: {roc_auc_score(y_val_enc, y_proba_xgb_tfidf):.4f}\")\n",
    "print(classification_report(y_val_enc, y_pred_xgb_tfidf, target_names=le.classes_))"
   ]
  },
  {
   "cell_type": "code",
   "execution_count": 22,
   "id": "a1b90636",
   "metadata": {
    "execution": {
     "iopub.execute_input": "2025-08-09T16:56:54.630368Z",
     "iopub.status.busy": "2025-08-09T16:56:54.630112Z",
     "iopub.status.idle": "2025-08-09T16:56:57.772950Z",
     "shell.execute_reply": "2025-08-09T16:56:57.772064Z"
    },
    "papermill": {
     "duration": 3.477936,
     "end_time": "2025-08-09T16:56:57.774208",
     "exception": false,
     "start_time": "2025-08-09T16:56:54.296272",
     "status": "completed"
    },
    "tags": []
   },
   "outputs": [
    {
     "name": "stdout",
     "output_type": "stream",
     "text": [
      "=== SVM on TF-IDF ===\n",
      "Accuracy: 0.9830\n",
      "AUC: 0.9918\n",
      "              precision    recall  f1-score   support\n",
      "\n",
      "         ham       0.98      1.00      0.99       966\n",
      "        spam       0.97      0.90      0.93       149\n",
      "\n",
      "    accuracy                           0.98      1115\n",
      "   macro avg       0.98      0.95      0.96      1115\n",
      "weighted avg       0.98      0.98      0.98      1115\n",
      "\n"
     ]
    }
   ],
   "source": [
    "# SVM on TF-IDF\n",
    "\n",
    "svm_tfidf = SVC(kernel='linear', probability=True, random_state=42)\n",
    "svm_tfidf.fit(X_train_tfidf, y_train)\n",
    "\n",
    "y_pred_svm_tfidf = svm_tfidf.predict(X_val_tfidf)\n",
    "y_proba_svm_tfidf = svm_tfidf.predict_proba(X_val_tfidf)[:, 1]\n",
    "\n",
    "print(\"=== SVM on TF-IDF ===\")\n",
    "print(f\"Accuracy: {accuracy_score(y_val, y_pred_svm_tfidf):.4f}\")\n",
    "print(f\"AUC: {roc_auc_score(y_val.map({'ham':0, 'spam':1}), y_proba_svm_tfidf):.4f}\")\n",
    "print(classification_report(y_val, y_pred_svm_tfidf))"
   ]
  },
  {
   "cell_type": "markdown",
   "id": "627fd687",
   "metadata": {
    "papermill": {
     "duration": 0.336924,
     "end_time": "2025-08-09T16:56:58.485721",
     "exception": false,
     "start_time": "2025-08-09T16:56:58.148797",
     "status": "completed"
    },
    "tags": []
   },
   "source": [
    "Порівняння моделей на TF-IDF:\n",
    "\n",
    "| Модель        | Accuracy | AUC    | Precision (spam) | Recall (spam) | F1 (spam) |\n",
    "|---------------|----------|--------|------------------|---------------|-----------|\n",
    "| LogisticReg   | 0.9614   | 0.9880 | 0.96             | 0.74          | 0.84      |\n",
    "| Random Forest | 0.9767   | 0.9893 | 1.00             | 0.83          | 0.90      |\n",
    "| SVM           | 0.9830   | 0.9918 | 0.97             | 0.90          | 0.93      |\n",
    "| XGBoost       | 0.9713   | 0.9754 | 0.98             | 0.81          | 0.88      |\n"
   ]
  },
  {
   "cell_type": "markdown",
   "id": "73bb2a8c",
   "metadata": {
    "papermill": {
     "duration": 0.3303,
     "end_time": "2025-08-09T16:56:59.223191",
     "exception": false,
     "start_time": "2025-08-09T16:56:58.892891",
     "status": "completed"
    },
    "tags": []
   },
   "source": [
    "**Висновок:**\n",
    " * SVM — найкраща модель по балансу точності та повноти (precision та recall).\n",
    "\n",
    " * Random Forest і XGBoost теж сильні, але трохи поступаються SVM.\n",
    "\n",
    " * Logistic Regression — базова модель, теж робить гарну роботу, але слабша за ансамблеві методи."
   ]
  },
  {
   "cell_type": "code",
   "execution_count": 23,
   "id": "b49ba5cb",
   "metadata": {
    "execution": {
     "iopub.execute_input": "2025-08-09T16:56:59.930031Z",
     "iopub.status.busy": "2025-08-09T16:56:59.929292Z",
     "iopub.status.idle": "2025-08-09T16:57:36.828430Z",
     "shell.execute_reply": "2025-08-09T16:57:36.827530Z"
    },
    "papermill": {
     "duration": 37.609458,
     "end_time": "2025-08-09T16:57:37.160127",
     "exception": false,
     "start_time": "2025-08-09T16:56:59.550669",
     "status": "completed"
    },
    "tags": []
   },
   "outputs": [
    {
     "name": "stdout",
     "output_type": "stream",
     "text": [
      "Fitting 3 folds for each of 12 candidates, totalling 36 fits\n",
      "The Best parameters: {'C': 10, 'gamma': 'scale', 'kernel': 'rbf'}\n",
      "The best AUC: 0.9861314378808341\n"
     ]
    }
   ],
   "source": [
    "# Hyperparameter search for SVM (GridSearchCV)\n",
    "param_grid = {\n",
    "    'C': [0.1, 1, 10],\n",
    "    'kernel': ['linear', 'rbf'],\n",
    "    'gamma': ['scale', 'auto']  # for 'rbf' kernel\n",
    "}\n",
    "\n",
    "svm = SVC(probability=True, random_state=37)\n",
    "\n",
    "grid_search = GridSearchCV(svm, param_grid, cv=3, scoring='roc_auc', n_jobs=-1, verbose=2)\n",
    "grid_search.fit(X_train_tfidf, y_train_enc)\n",
    "\n",
    "print(\"The Best parameters:\", grid_search.best_params_)\n",
    "print(\"The best AUC:\", grid_search.best_score_)"
   ]
  },
  {
   "cell_type": "code",
   "execution_count": 24,
   "id": "938cb506",
   "metadata": {
    "execution": {
     "iopub.execute_input": "2025-08-09T16:57:37.821310Z",
     "iopub.status.busy": "2025-08-09T16:57:37.820601Z",
     "iopub.status.idle": "2025-08-09T16:57:38.350401Z",
     "shell.execute_reply": "2025-08-09T16:57:38.349533Z"
    },
    "papermill": {
     "duration": 0.862679,
     "end_time": "2025-08-09T16:57:38.351733",
     "exception": false,
     "start_time": "2025-08-09T16:57:37.489054",
     "status": "completed"
    },
    "tags": []
   },
   "outputs": [
    {
     "name": "stdout",
     "output_type": "stream",
     "text": [
      "=== The Best SVM on TF-IDF ===\n",
      "Accuracy: 0.9803\n",
      "AUC: 0.9902\n",
      "              precision    recall  f1-score   support\n",
      "\n",
      "         ham       0.98      1.00      0.99       966\n",
      "        spam       0.98      0.87      0.92       149\n",
      "\n",
      "    accuracy                           0.98      1115\n",
      "   macro avg       0.98      0.93      0.96      1115\n",
      "weighted avg       0.98      0.98      0.98      1115\n",
      "\n"
     ]
    }
   ],
   "source": [
    "# Training a model with the best parameters\n",
    "best_svm = grid_search.best_estimator_\n",
    "y_pred_best = best_svm.predict(X_val_tfidf)\n",
    "y_proba_best = best_svm.predict_proba(X_val_tfidf)[:, 1]\n",
    "\n",
    "print(\"=== The Best SVM on TF-IDF ===\")\n",
    "print(f\"Accuracy: {accuracy_score(y_val_enc, y_pred_best):.4f}\")\n",
    "print(f\"AUC: {roc_auc_score(y_val_enc, y_proba_best):.4f}\")\n",
    "print(classification_report(y_val_enc, y_pred_best, target_names=le.classes_))"
   ]
  },
  {
   "cell_type": "code",
   "execution_count": 25,
   "id": "7faa85ac",
   "metadata": {
    "execution": {
     "iopub.execute_input": "2025-08-09T16:57:39.124728Z",
     "iopub.status.busy": "2025-08-09T16:57:39.123991Z",
     "iopub.status.idle": "2025-08-09T16:57:39.176745Z",
     "shell.execute_reply": "2025-08-09T16:57:39.175968Z"
    },
    "papermill": {
     "duration": 0.383636,
     "end_time": "2025-08-09T16:57:39.177931",
     "exception": false,
     "start_time": "2025-08-09T16:57:38.794295",
     "status": "completed"
    },
    "tags": []
   },
   "outputs": [],
   "source": [
    "#Let's add engineering features to the data\n",
    "def add_features(df):\n",
    "    df = df.copy()\n",
    "    df['text_len'] = df['text'].apply(len)\n",
    "    df['word_count'] = df['text'].apply(lambda x: len(x.split()))\n",
    "    df['digit_count'] = df['text'].apply(lambda x: sum(c.isdigit() for c in x))\n",
    "    df['punctuation_count'] = df['text'].apply(lambda x: sum(c in string.punctuation for c in x))\n",
    "    return df\n",
    "\n",
    "# add engineering features to train and validate datasets\n",
    "train_df = pd.DataFrame({'text': X_train, 'label': y_train})\n",
    "val_df = pd.DataFrame({'text': X_val, 'label': y_val})\n",
    "\n",
    "train_df = add_features(train_df)\n",
    "val_df = add_features(val_df)"
   ]
  },
  {
   "cell_type": "code",
   "execution_count": 26,
   "id": "f715bf7a",
   "metadata": {
    "execution": {
     "iopub.execute_input": "2025-08-09T16:57:39.887237Z",
     "iopub.status.busy": "2025-08-09T16:57:39.886527Z",
     "iopub.status.idle": "2025-08-09T16:57:39.894911Z",
     "shell.execute_reply": "2025-08-09T16:57:39.894170Z"
    },
    "papermill": {
     "duration": 0.389913,
     "end_time": "2025-08-09T16:57:39.895955",
     "exception": false,
     "start_time": "2025-08-09T16:57:39.506042",
     "status": "completed"
    },
    "tags": []
   },
   "outputs": [],
   "source": [
    "# Let's combine TF-IDF vectors with new features\n",
    "X_train_features = hstack([X_train_tfidf, train_df[['text_len', 'word_count', 'digit_count', 'punctuation_count']].values])\n",
    "X_val_features = hstack([X_val_tfidf, val_df[['text_len', 'word_count', 'digit_count', 'punctuation_count']].values])"
   ]
  },
  {
   "cell_type": "code",
   "execution_count": 27,
   "id": "42e6b9d2",
   "metadata": {
    "execution": {
     "iopub.execute_input": "2025-08-09T16:57:40.554253Z",
     "iopub.status.busy": "2025-08-09T16:57:40.553940Z",
     "iopub.status.idle": "2025-08-09T16:57:45.582418Z",
     "shell.execute_reply": "2025-08-09T16:57:45.581500Z"
    },
    "papermill": {
     "duration": 5.360707,
     "end_time": "2025-08-09T16:57:45.583699",
     "exception": false,
     "start_time": "2025-08-09T16:57:40.222992",
     "status": "completed"
    },
    "tags": []
   },
   "outputs": [
    {
     "name": "stdout",
     "output_type": "stream",
     "text": [
      "=== SVM on TF-IDF + engeneer features ===\n",
      "Accuracy: 0.8789\n",
      "AUC: 0.8661\n",
      "              precision    recall  f1-score   support\n",
      "\n",
      "         ham       0.90      0.97      0.93       966\n",
      "        spam       0.59      0.30      0.40       149\n",
      "\n",
      "    accuracy                           0.88      1115\n",
      "   macro avg       0.75      0.63      0.67      1115\n",
      "weighted avg       0.86      0.88      0.86      1115\n",
      "\n"
     ]
    }
   ],
   "source": [
    "#Let's train SVM with new features (with better hyperparameters)\n",
    "best_svm.fit(X_train_features, y_train_enc)\n",
    "\n",
    "y_pred_new = best_svm.predict(X_val_features)\n",
    "y_proba_new = best_svm.predict_proba(X_val_features)[:, 1]\n",
    "\n",
    "print(\"=== SVM on TF-IDF + engeneer features ===\")\n",
    "print(f\"Accuracy: {accuracy_score(y_val_enc, y_pred_new):.4f}\")\n",
    "print(f\"AUC: {roc_auc_score(y_val_enc, y_proba_new):.4f}\")\n",
    "print(classification_report(y_val_enc, y_pred_new, target_names=le.classes_))\n"
   ]
  },
  {
   "cell_type": "code",
   "execution_count": 28,
   "id": "b048e394",
   "metadata": {
    "execution": {
     "iopub.execute_input": "2025-08-09T16:57:46.299285Z",
     "iopub.status.busy": "2025-08-09T16:57:46.298620Z",
     "iopub.status.idle": "2025-08-09T16:57:51.446871Z",
     "shell.execute_reply": "2025-08-09T16:57:51.445836Z"
    },
    "papermill": {
     "duration": 5.531175,
     "end_time": "2025-08-09T16:57:51.448668",
     "exception": false,
     "start_time": "2025-08-09T16:57:45.917493",
     "status": "completed"
    },
    "tags": []
   },
   "outputs": [
    {
     "name": "stdout",
     "output_type": "stream",
     "text": [
      "=== SVM on TF-IDF + Scaling engineering features ===\n",
      "Accuracy: 0.9830\n",
      "AUC: 0.9925\n",
      "              precision    recall  f1-score   support\n",
      "\n",
      "         ham       0.98      1.00      0.99       966\n",
      "        spam       1.00      0.87      0.93       149\n",
      "\n",
      "    accuracy                           0.98      1115\n",
      "   macro avg       0.99      0.94      0.96      1115\n",
      "weighted avg       0.98      0.98      0.98      1115\n",
      "\n"
     ]
    }
   ],
   "source": [
    "from sklearn.preprocessing import StandardScaler\n",
    "\n",
    "scaler = StandardScaler()\n",
    "\n",
    "# Scaling engineering features\n",
    "train_features_scaled = scaler.fit_transform(train_df[['text_len', 'word_count', 'digit_count', 'punctuation_count']])\n",
    "val_features_scaled = scaler.transform(val_df[['text_len', 'word_count', 'digit_count', 'punctuation_count']])\n",
    "\n",
    "# Combining TF-IDF and scaled features\n",
    "X_train_features_scaled = hstack([X_train_tfidf, train_features_scaled])\n",
    "X_val_features_scaled = hstack([X_val_tfidf, val_features_scaled])\n",
    "\n",
    "# We train the model again\n",
    "best_svm.fit(X_train_features_scaled, y_train_enc)\n",
    "\n",
    "y_pred_scaled = best_svm.predict(X_val_features_scaled)\n",
    "y_proba_scaled = best_svm.predict_proba(X_val_features_scaled)[:, 1]\n",
    "\n",
    "print(\"=== SVM on TF-IDF + Scaling engineering features ===\")\n",
    "print(f\"Accuracy: {accuracy_score(y_val_enc, y_pred_scaled):.4f}\")\n",
    "print(f\"AUC: {roc_auc_score(y_val_enc, y_proba_scaled):.4f}\")\n",
    "print(classification_report(y_val_enc, y_pred_scaled, target_names=le.classes_))\n"
   ]
  },
  {
   "cell_type": "markdown",
   "id": "b566a719",
   "metadata": {
    "papermill": {
     "duration": 0.32926,
     "end_time": "2025-08-09T16:57:52.117150",
     "exception": false,
     "start_time": "2025-08-09T16:57:51.787890",
     "status": "completed"
    },
    "tags": []
   },
   "source": [
    "**Висновок:**\n",
    "<br>Прості інженерні ознаки можуть бути корисними, але для роботи з ними важливо правильно масштабувати дані, щоб алгоритм не «заплутався» через різні діапазони значень."
   ]
  },
  {
   "cell_type": "markdown",
   "id": "5226284b",
   "metadata": {
    "papermill": {
     "duration": 0.332848,
     "end_time": "2025-08-09T16:57:52.823353",
     "exception": false,
     "start_time": "2025-08-09T16:57:52.490505",
     "status": "completed"
    },
    "tags": []
   },
   "source": [
    "| Модель                      | Accuracy | AUC    | Precision (spam) | Recall (spam) | F1 (spam) |\n",
    "|----------------------------|----------|--------|------------------|---------------|-----------|\n",
    "| Logistic Regression (BoW)   | 0.9803   | 0.9881 | 1.00             | 0.85          | 0.92      |\n",
    "| Logistic Regression (TF-IDF)| 0.9614   | 0.9880 | 0.96             | 0.74          | 0.84      |\n",
    "| Random Forest (BoW)         | 0.9767   | 0.9859 | 0.99             | 0.83          | 0.91      |\n",
    "| Random Forest (TF-IDF)      | 0.9767   | 0.9893 | 1.00             | 0.83          | 0.90      |\n",
    "| SVM (TF-IDF)                | 0.9830   | 0.9918 | 0.97             | 0.90          | 0.93      |\n",
    "| SVM (TF-IDF + scaled features)| **0.9830** | **0.9925** | **1.00**       | 0.87          | 0.93      |\n",
    "| XGBoost (TF-IDF)            | 0.9713   | 0.9754 | 0.98             | 0.81          | 0.88      |\n",
    "| Logistic Regression (Word2Vec)| 0.8951 | 0.9257 | 0.62             | 0.56          | 0.59      |\n"
   ]
  },
  {
   "cell_type": "markdown",
   "id": "746258a8",
   "metadata": {
    "papermill": {
     "duration": 0.378014,
     "end_time": "2025-08-09T16:57:53.525765",
     "exception": false,
     "start_time": "2025-08-09T16:57:53.147751",
     "status": "completed"
    },
    "tags": []
   },
   "source": [
    "**Основні висновки:**\n",
    "* Найкращі результати продемонструвала SVM-модель з TF-IDF векторизацією та масштабованими інженерними ознаками. Вона поєднує високу точність і збалансований показник recall для класу спаму, що є критично важливим для задачі виявлення небажаних повідомлень.\n",
    "\n",
    "* TF-IDF показав кращі результати, ніж Bag-of-Words (BoW), особливо у поєднанні з SVM. Це пов’язано з тим, що TF-IDF враховує не тільки частоту, а й значущість слів у контексті всього корпусу.\n",
    "\n",
    "* Попередньо навчені ембедінги Word2Vec не дали кращих результатів в порівнянні з класичними методами векторизації тексту. Це може бути пов’язано з обмеженнями розмірності, контексту та специфіки текстів у наборі даних.\n",
    "\n",
    "* Інженерні ознаки без масштабування суттєво погіршували якість моделі, але правильне масштабування цих ознак дозволило покращити результат і підвищити AUC.\n",
    "\n",
    "* Random Forest та XGBoost теж показали хороші результати, але все ж дещо поступаються оптимізованому SVM."
   ]
  },
  {
   "cell_type": "markdown",
   "id": "1c1db8a3",
   "metadata": {
    "papermill": {
     "duration": 0.33678,
     "end_time": "2025-08-09T16:57:54.195622",
     "exception": false,
     "start_time": "2025-08-09T16:57:53.858842",
     "status": "completed"
    },
    "tags": []
   },
   "source": [
    "**Рекомендації:**\n",
    "* Для завдань класифікації спаму варто використовувати TF-IDF векторизацію з оптимізованою SVM-моделлю.\n",
    "\n",
    "* Варто продовжувати вдосконалювати інженерні ознаки, експериментувати з більш просунутими моделями (нейронні мережі, трансформери) і робити аналіз помилок для розуміння слабких місць системи.\n",
    "\n",
    "* Для подальшого покращення можливе використання ансамблів моделей."
   ]
  }
 ],
 "metadata": {
  "kaggle": {
   "accelerator": "nvidiaTeslaT4",
   "dataSources": [
    {
     "datasetId": 1961542,
     "sourceId": 3235802,
     "sourceType": "datasetVersion"
    }
   ],
   "dockerImageVersionId": 31090,
   "isGpuEnabled": true,
   "isInternetEnabled": true,
   "language": "python",
   "sourceType": "notebook"
  },
  "kernelspec": {
   "display_name": "Python 3",
   "language": "python",
   "name": "python3"
  },
  "language_info": {
   "codemirror_mode": {
    "name": "ipython",
    "version": 3
   },
   "file_extension": ".py",
   "mimetype": "text/x-python",
   "name": "python",
   "nbconvert_exporter": "python",
   "pygments_lexer": "ipython3",
   "version": "3.11.13"
  },
  "papermill": {
   "default_parameters": {},
   "duration": 135.065166,
   "end_time": "2025-08-09T16:57:57.300819",
   "environment_variables": {},
   "exception": null,
   "input_path": "__notebook__.ipynb",
   "output_path": "__notebook__.ipynb",
   "parameters": {},
   "start_time": "2025-08-09T16:55:42.235653",
   "version": "2.6.0"
  }
 },
 "nbformat": 4,
 "nbformat_minor": 5
}
